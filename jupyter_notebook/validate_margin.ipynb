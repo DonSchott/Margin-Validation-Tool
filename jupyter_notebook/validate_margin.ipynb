{
 "cells": [
  {
   "cell_type": "markdown",
   "id": "70d16f59-5898-4aa7-98d6-f837f38cea8a",
   "metadata": {},
   "source": [
    "# Save sample data to SQLite database\n",
    "I choose to access the data from a SQLite database for its simplicity and ease of use. \n",
    "\n",
    "When flexibility becomes more important, SQLAlchemy could be used as a wrapper, so the code can be easily abstracted from the underlying database.\n",
    "\n",
    "First we need a function to create the two database tables CC050 and CI050, respectively. \n",
    "Column names, its data types and example data are taken from the provided specific_example.txt. \n",
    "The rows of the tables are represented as tuples and the data of the tables as lists of tuples."
   ]
  },
  {
   "cell_type": "code",
   "execution_count": 11,
   "id": "a54db880-fb70-44d9-9013-6e23001cab67",
   "metadata": {},
   "outputs": [],
   "source": [
    "import sqlite3\n",
    "\n",
    "\n",
    "def create_tables(conn):\n",
    "    \"\"\"Create tables CC050 and CI050 in the SQLite database.\"\"\"\n",
    "    with conn:\n",
    "        cursor = conn.cursor()\n",
    "        cursor.execute('''CREATE TABLE IF NOT EXISTS CC050 (\n",
    "                        date TEXT,\n",
    "                        clearing_member TEXT,\n",
    "                        account TEXT,\n",
    "                        margin_type TEXT,\n",
    "                        margin REAL\n",
    "                        )''')\n",
    "\n",
    "        cursor.execute('''CREATE TABLE IF NOT EXISTS CI050 (\n",
    "                        date TEXT,\n",
    "                        time_of_day TEXT,\n",
    "                        clearing_member TEXT,\n",
    "                        account TEXT,\n",
    "                        margin_type TEXT,\n",
    "                        margin REAL\n",
    "                        )''')\n",
    "\n",
    "# Example data from specific_example.txt file for EoD (end of day) reports CC050 table\n",
    "cc050_data = [\n",
    "        ('2020-05-11', 'Bank 1', 'A1', 'SPAN', 3212.2),\n",
    "        ('2020-05-11', 'Bank 1', 'A1', 'IMSM', 837.1),\n",
    "        ('2020-05-11', 'Bank 1', 'A2', 'SPAN', 8963.3),\n",
    "        ('2020-05-11', 'Bank 1', 'A2', 'IMSM', 76687.9),\n",
    "        ('2020-05-11', 'Bank 2', 'A1', 'SPAN', 821.4),\n",
    "        ('2020-05-11', 'Bank 2', 'A1', 'SPAN', 8766.4),\n",
    "]\n",
    "\n",
    "# Same for Intraday reports CI050 table\n",
    "ci050_data = [\n",
    "        ('2020-05-11', '18:00:00', 'Bank 1', 'A1', 'SPAN', 2882.2),\n",
    "        ('2020-05-11', '18:00:00', 'Bank 1', 'A1', 'IMSM', 988.1),\n",
    "        ('2020-05-11', '18:00:00', 'Bank 1', 'A2', 'SPAN', 788.3),\n",
    "        ('2020-05-11', '18:00:00', 'Bank 1', 'A2', 'IMSM', 908.9),\n",
    "        ('2020-05-11', '18:00:00', 'Bank 2', 'A1', 'SPAN', 123.4),\n",
    "        ('2020-05-11', '18:00:00', 'Bank 2', 'A1', 'IMSM', 8326.4),\n",
    "        ('2020-05-11', '19:00:00', 'Bank 1', 'A1', 'SPAN', 3212.2),\n",
    "        ('2020-05-11', '19:00:00', 'Bank 1', 'A1', 'IMSM', 837.1),\n",
    "        ('2020-05-11', '19:00:00', 'Bank 1', 'A2', 'SPAN', 8963.3),\n",
    "        ('2020-05-11', '19:00:00', 'Bank 1', 'A2', 'IMSM', 76687.9),\n",
    "        ('2020-05-11', '19:00:00', 'Bank 2', 'A1', 'SPAN', 821.4),\n",
    "        ('2020-05-11', '19:00:00', 'Bank 2', 'A1', 'IMSM', 8766.4),\n",
    "        ('2020-05-12', '08:00:00', 'Bank 1', 'A1', 'SPAN', 3212.2),\n",
    "        ('2020-05-12', '08:00:00', 'Bank 1', 'A1', 'IMSM', 837.1),\n",
    "        ('2020-05-12', '08:00:00', 'Bank 1', 'A2', 'SPAN', 8963.3),\n",
    "        ('2020-05-12', '08:00:00', 'Bank 1', 'A2', 'IMSM', 76687.9),\n",
    "        ('2020-05-12', '08:00:00', 'Bank 2', 'A1', 'SPAN', 821.4),\n",
    "        ('2020-05-12', '08:00:00', 'Bank 2', 'A1', 'IMSM', 8766.4),\n",
    "        ('2020-05-12', '09:00:00', 'Bank 1', 'A1', 'SPAN', 3133.9),\n",
    "        ('2020-05-12', '09:00:00', 'Bank 1', 'A1', 'IMSM', 137.1),\n",
    "        ('2020-05-12', '09:00:00', 'Bank 1', 'A2', 'SPAN', 2963.3),\n",
    "        ('2020-05-12', '09:00:00', 'Bank 1', 'A2', 'IMSM', 74687.9),\n",
    "        ('2020-05-12', '09:00:00', 'Bank 2', 'A1', 'SPAN', 811.4),\n",
    "        ('2020-05-12', '09:00:00', 'Bank 2', 'A1', 'IMSM', 8366.4),\n",
    "]"
   ]
  },
  {
   "cell_type": "markdown",
   "id": "4d11cd04-f378-41b7-9d31-40133be71037",
   "metadata": {},
   "source": [
    "We need a function to insert the data from the objects created above into the database. \n",
    "The function is flexible in regard of column number, since CC050 and CI050 differ in number of columns."
   ]
  },
  {
   "cell_type": "code",
   "execution_count": 12,
   "id": "a5bc73b9-a7a7-405d-84d2-36b2aac7695d",
   "metadata": {},
   "outputs": [],
   "source": [
    "def insert_data(conn, table_name, data):\n",
    "    \"\"\"Insert example data provided into the specified table.\"\"\"\n",
    "    with conn:\n",
    "        cursor = conn.cursor()\n",
    "        placeholders = ', '.join(['?'] * len(data[0]))\n",
    "        query = f\"INSERT INTO {table_name} VALUES ({placeholders})\"\n",
    "        cursor.executemany(query, data)\n"
   ]
  },
  {
   "cell_type": "markdown",
   "id": "e6026136-bb3b-45a3-b90f-6f0a93ba669c",
   "metadata": {},
   "source": [
    "In the last step this function is used to insert the respective data into its tables. \n",
    "The database \"LZDB_dummy.db\" is created in the repository root folder and will be accessed for the validation functionality."
   ]
  },
  {
   "cell_type": "code",
   "execution_count": 14,
   "id": "009d8b1e-0b76-4f2f-84fd-3a916661349f",
   "metadata": {},
   "outputs": [],
   "source": [
    "def populate_database(database_path, cc050_data, ci050_data):\n",
    "    \"\"\"Populate the SQLite database with example data provided.\"\"\"\n",
    "    with sqlite3.connect(database_path) as conn:\n",
    "        create_tables(conn)\n",
    "        insert_data(conn, 'CC050', cc050_data)\n",
    "        insert_data(conn, 'CI050', ci050_data)\n",
    "\n",
    "populate_database(\"../LZDB_dummy.db\", cc050_data, ci050_data)\n"
   ]
  },
  {
   "cell_type": "code",
   "execution_count": null,
   "id": "8127ae9d-ddae-4553-8fbb-2b0746a4d266",
   "metadata": {},
   "outputs": [],
   "source": [
    "Make sure to run the last cell only once. Otherwise the database will contain dublicates."
   ]
  },
  {
   "cell_type": "markdown",
   "id": "9faf5aa2-70d7-4ef8-a28d-692d6c94cd9f",
   "metadata": {},
   "source": [
    "# Margin validation functionality\n",
    "Before running the main() program to validate the margins, we write several functions that implement the functionalities such as logging, fetching the data from the database, the validation logic and the alert mail sending.\n",
    "\n",
    "## Logging\n",
    "We use the logging library and configure filename, logging level and format."
   ]
  },
  {
   "cell_type": "code",
   "execution_count": 43,
   "id": "069c432b-7d96-4784-a4c5-a4e0edfe707a",
   "metadata": {},
   "outputs": [],
   "source": [
    "import logging\n",
    "\n",
    "# Setup logging\n",
    "logging.basicConfig(filename='../margin_validation.log', level=logging.ERROR, format='%(asctime)s - %(levelname)s - %('\n",
    "                                                                                     'message)s')\n"
   ]
  },
  {
   "cell_type": "markdown",
   "id": "f76810c7-2e4a-4505-af82-384e8d41002c",
   "metadata": {},
   "source": [
    "## Access database content \n",
    "We define fetch_margins function. \n",
    "It queries the margin data for a given table name, report date and (in case of table CI050) report time. \n",
    "Since CI050 and CC050 differ in column number, the parameter report_time is used to distinguish two cases of querrying. The function returns lists of tuples, the latter being the representation of a row in the table."
   ]
  },
  {
   "cell_type": "code",
   "execution_count": 44,
   "id": "ea20833e-5502-4f9d-93c0-4fa072048ffe",
   "metadata": {},
   "outputs": [],
   "source": [
    "def fetch_margins(conn, table_name, report_date, report_time=None):\n",
    "    \"\"\"Fetch rows from the specified table given the report date and (optionally) report time.\n",
    "       RETURN TYPE: List of Tuples\"\"\"\n",
    "    cursor = conn.cursor()\n",
    "    if report_time:\n",
    "        cursor.execute(\n",
    "            f'SELECT date, time_of_day, clearing_member, account, margin_type, margin FROM {table_name} WHERE date = '\n",
    "            f'? AND time_of_day = ?',\n",
    "            (report_date, report_time))\n",
    "    else:\n",
    "        cursor.execute(f\"SELECT date, clearing_member, account, margin_type, margin FROM {table_name} WHERE date = ?\",\n",
    "                       (report_date,))\n",
    "    margins_list = cursor.fetchall()\n",
    "    return margins_list\n"
   ]
  },
  {
   "cell_type": "markdown",
   "id": "93533794-c9be-4f67-9952-4dbd58cf296d",
   "metadata": {},
   "source": [
    "## Logic functionality\n",
    "The function validate_elements_of_list1_in_list2(list1, list2) \n",
    "will be central to the validation logic. \n",
    "It takes two lists of tuples as parameters. \n",
    "It checks for each element of the first list if it is also part of the second list. \n",
    "The last four elements of the tuple of the first list must equal the respective last four \n",
    "elements of the tuple of the second list. \n",
    "Each element of list 1 that is not contained in list 2 is saved to discrepancies. \n",
    "When the function finishes the list discrepancies is returned. \n",
    "I.e. if all elements of the first list are contained in the second, \"None\" is returned."
   ]
  },
  {
   "cell_type": "code",
   "execution_count": 45,
   "id": "aa5e6baa-a8ba-4eb5-8c79-b14d2e81eeac",
   "metadata": {},
   "outputs": [],
   "source": [
    "def validate_elements_of_list1_in_list2(list1, list2):\n",
    "    \"\"\"\n",
    "    Check for two lists of tuples if all the first lists elements are found in list two.\n",
    "    For the comparison irrelevant columns date and (optionally) time_of_day are sliced of.\n",
    "    \"\"\"\n",
    "\n",
    "    # note: only the four last columns are relevant to compare cc050_data and ci050_data, respectively.\n",
    "    #       we keep columns date, time_of_day for error message / logging.\n",
    "    discrepancies = []\n",
    "    for list1_row in list1:\n",
    "        list1_relevant_rows = list1_row[-4:]\n",
    "        found_match = False\n",
    "        for list2_row in list2:\n",
    "            list2_relevant_rows = list2_row[-4:]\n",
    "            if list1_relevant_rows == list2_relevant_rows:\n",
    "                found_match = True\n",
    "                break\n",
    "        if not found_match:\n",
    "            discrepancies.append(f\"Margin missing: {list1_row}\")\n",
    "    return discrepancies\n"
   ]
  },
  {
   "cell_type": "markdown",
   "id": "1a035051-7bc2-4883-a935-87f6268ec38b",
   "metadata": {},
   "source": [
    "## Alert mail sending\n",
    "Mails to multiple receivers can be sent by using the Simple Mail Transfer Protocoll (SMTP).\n",
    "A mail server has a be able to support that protocol and must be configured properly. \n",
    "\n",
    "We varified the functionality using Gmail and two private Gmail adresses. \n",
    "Since credentials such as email adresses (and passwords!) should not be found in public repositories,\n",
    "the respective data is imported from a local file that is not part of the repository.\n",
    "To use the send mail functionality, specify the data for senders and receivers as shown in  credentials_example.py.\n",
    "\n",
    "Note: Another option would be using environment variables to store secrets. "
   ]
  },
  {
   "cell_type": "code",
   "execution_count": 46,
   "id": "c7fdab6c-47ee-4b70-bef5-7cd3b40bd203",
   "metadata": {},
   "outputs": [],
   "source": [
    "import smtplib\n",
    "\n",
    "from email.mime.text import MIMEText\n",
    "from email.mime.multipart import MIMEMultipart\n",
    "\n",
    "import sys\n",
    "sys.path.append(\"..\")\n",
    "import credentials\n",
    "\n",
    "\n",
    "def send_email(subject, body):\n",
    "    \"\"\"Sends an alert email when validation failed.\"\"\"\n",
    "\n",
    "    # email credentials NOT shared in public repo. get them from credentials file\n",
    "    sender_email = credentials.sender_email\n",
    "    sender_email_pw = credentials.sender_email_pw\n",
    "    receiver_email = credentials.receiver_email\n",
    "\n",
    "    message = MIMEMultipart()\n",
    "    message[\"From\"] = sender_email\n",
    "    message[\"To\"] = \", \".join(receiver_email)\n",
    "    message[\"Subject\"] = subject\n",
    "\n",
    "    # Structure email, add body to email\n",
    "    message.attach(MIMEText(body, \"plain\"))\n",
    "\n",
    "    # Convert the message to a string and send it\n",
    "    with smtplib.SMTP(\"smtp.gmail.com\", 587) as server:\n",
    "        server.starttls()\n",
    "\n",
    "        server.login(sender_email, sender_email_pw)\n",
    "        text = message.as_string()\n",
    "        server.sendmail(sender_email, receiver_email, text)\n"
   ]
  },
  {
   "cell_type": "markdown",
   "id": "89be5e77-dd65-4567-9c9c-0346da6aac21",
   "metadata": {},
   "source": [
    "## Queries for first and last report time of a specific data\n",
    "For the validation program to be flexible regarding the first and last report time of a given report date,\n",
    "a helper function is defined.\n",
    "The function get_min_time_of_day and get_max_time_of_day return the minimal and maximal entries in time_of_day column, respectively. "
   ]
  },
  {
   "cell_type": "code",
   "execution_count": 47,
   "id": "bc8f837e-a40d-405d-a66b-3556b94321a2",
   "metadata": {},
   "outputs": [],
   "source": [
    "def get_min_time_of_day(conn, table_name, report_date):\n",
    "    \"\"\"Get the minimal time of day for a given date from the specified table.\"\"\"\n",
    "    cursor = conn.cursor()\n",
    "    cursor.execute(f\"SELECT MIN(time_of_day) FROM {table_name} WHERE date = ?\", (report_date,))\n",
    "    min_time = cursor.fetchone()[0]\n",
    "    return min_time\n",
    "\n",
    "\n",
    "def get_max_time_of_day(conn, table_name, report_date):\n",
    "    \"\"\"Get the maximal time of day for a given date from the specified table.\"\"\"\n",
    "    cursor = conn.cursor()\n",
    "    cursor.execute(f\"SELECT MAX(time_of_day) FROM {table_name} WHERE date = ?\", (report_date,))\n",
    "    max_time = cursor.fetchone()[0]\n",
    "    return max_time\n"
   ]
  },
  {
   "cell_type": "markdown",
   "id": "a841a98b-2188-4203-b799-76d2d164632b",
   "metadata": {},
   "source": [
    "## Execute the validation\n",
    "First a remark regarding the dates. The sample set has a specific range of dates.\n",
    "That's why the variables today and yesterday are hardcode to '2020-05-12' and  '2020-05-11', respectively. \n",
    "In production they will be variables delivered by the datetime library (see code comments).\n",
    "\n",
    "###Validation logic\n",
    "We must check that yesterdays CC050 margins match with yesterdays last as well as todays first CI050 margins as a one-to-one correspondence. The relations are be invertible and we check the inverse as well. In total four checks are done. \n",
    "\n",
    "After the checks duplicates of missing margins are removed.\n",
    "\n",
    "Finally a success message is printed to stdout in the case of no error occuring.\n",
    "In case of erroneous data and failing validation checks, \n",
    "the respective error messages are printed to stdout, \n",
    "a Logfile and sent as alert mails to stakeholders.\n",
    "\n",
    "Note: If no credentials for email sender and receiver are given, \n",
    "this main() will fail. To deactivate sending alert mails, remove the two send_email() commands."
   ]
  },
  {
   "cell_type": "code",
   "execution_count": 48,
   "id": "ffcd42aa-3edb-4392-872d-3dacc5cf6794",
   "metadata": {},
   "outputs": [
    {
     "name": "stdout",
     "output_type": "stream",
     "text": [
      "\n",
      "Validation failed! Missing margins in CC050:\n",
      "Margin missing: ('2020-05-11', 'Bank 2', 'A1', 'SPAN', 8766.4)\n",
      "\n",
      "\n",
      "Validation failed! Missing margins in CI050:\n",
      "Margin missing: ('2020-05-12', '08:00:00', 'Bank 2', 'A1', 'IMSM', 8766.4)\n",
      "Margin missing: ('2020-05-11', '19:00:00', 'Bank 2', 'A1', 'IMSM', 8766.4)\n",
      "\n"
     ]
    }
   ],
   "source": [
    "#import datetime\n",
    "\n",
    "def main():\n",
    "    conn = sqlite3.connect('../LZDB_dummy.db')\n",
    "\n",
    "    # we suppose the checks are run at 10am on\n",
    "    #today = datetime.date.today().strftime('%Y-%m-%d')\n",
    "    today = '2020-05-12'\n",
    "    # therefore...\n",
    "    #yesterday = today - datetime.timedelta(days=1)\n",
    "    #yesterday = yesterday.strftime('%Y-%m-%d')\n",
    "    yesterday = '2020-05-11'\n",
    "\n",
    "    # CHECK 1: Check, if the end-of-day values of the previous day are the same as the first intraday values.\n",
    "\n",
    "    cc050_yesterday = fetch_margins(conn, 'CC050', yesterday)\n",
    "    ci050_today_first = fetch_margins(conn, 'CI050', today,\n",
    "                                      report_time=get_min_time_of_day(conn, 'CI050', today))\n",
    "\n",
    "    # Validate that yesterdays eod cc margins are found in today's first ci margin. And vice versa.\n",
    "    missing_cc050 = validate_elements_of_list1_in_list2(cc050_yesterday, ci050_today_first)\n",
    "    missing_ci050 = validate_elements_of_list1_in_list2(ci050_today_first, cc050_yesterday)\n",
    "\n",
    "    # CHECK 2: Check if the end-of-day values are the same as the last intraday values.\n",
    "\n",
    "    ci050_yesterday_last = fetch_margins(conn, 'CI050', yesterday,\n",
    "                                         report_time=get_max_time_of_day(conn, 'CI050', yesterday))\n",
    "\n",
    "    missing_cc050 += validate_elements_of_list1_in_list2(cc050_yesterday, ci050_yesterday_last)\n",
    "    missing_ci050 += validate_elements_of_list1_in_list2(ci050_yesterday_last, cc050_yesterday)\n",
    "\n",
    "    # Remove duplicates\n",
    "    missing_cc050 = list(set(missing_cc050))\n",
    "    missing_ci050 = list(set(missing_ci050))\n",
    "\n",
    "    # If check1 or check2 failed write error messages, add them to the log file and send alert emails\n",
    "    if not missing_cc050 and not missing_ci050:\n",
    "        print(\"Margins validation successful. No discrepancies found.\\n\")\n",
    "    if missing_cc050:\n",
    "        error_message = \"\\nValidation failed! Missing margins in CC050:\\n\"\n",
    "        for error in missing_cc050:\n",
    "            error_message += error + '\\n'\n",
    "        print(error_message)\n",
    "        logging.error(error_message)\n",
    "        send_email(\"Validation Alert: Missing Margins in CC050\", error_message)\n",
    "    if missing_ci050:\n",
    "        error_message = \"\\nValidation failed! Missing margins in CI050:\\n\"\n",
    "        for error in missing_ci050:\n",
    "            error_message += error + '\\n'\n",
    "        print(error_message)\n",
    "        logging.error(error_message)\n",
    "        send_email(\"Validation Alert: Missing Margins in CI050\", error_message)\n",
    "\n",
    "    conn.close()\n",
    "\n",
    "\n",
    "if __name__ == '__main__':\n",
    "    main()\n"
   ]
  },
  {
   "cell_type": "code",
   "execution_count": null,
   "id": "99d803a4-d445-4b25-a6c4-e3ab0f3c7a61",
   "metadata": {},
   "outputs": [],
   "source": []
  }
 ],
 "metadata": {
  "kernelspec": {
   "display_name": "Python 3 (ipykernel)",
   "language": "python",
   "name": "python3"
  },
  "language_info": {
   "codemirror_mode": {
    "name": "ipython",
    "version": 3
   },
   "file_extension": ".py",
   "mimetype": "text/x-python",
   "name": "python",
   "nbconvert_exporter": "python",
   "pygments_lexer": "ipython3",
   "version": "3.10.12"
  }
 },
 "nbformat": 4,
 "nbformat_minor": 5
}
